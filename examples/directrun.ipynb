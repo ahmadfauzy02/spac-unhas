{
 "cells": [
  {
   "cell_type": "code",
   "execution_count": 5,
   "id": "e4b8ab46-daa0-4a81-8a2d-e08400128f5e",
   "metadata": {},
   "outputs": [],
   "source": [
    "import sys\n",
    "sys.path.append('/home/ahmadfauzy/geoprojects/spac-unhas/')\n",
    "import spacunhas.src.environment\n",
    "from spacunhas.src.environment import SPACProcessing\n",
    "import spacunhas.src.readdata\n",
    "from spacunhas.src.readdata import ReadData"
   ]
  },
  {
   "cell_type": "code",
   "execution_count": 6,
   "id": "f05b07d7-699c-4c1e-a4de-acdde5646cb6",
   "metadata": {},
   "outputs": [
    {
     "name": "stdout",
     "output_type": "stream",
     "text": [
      "Folders are ready:\n",
      "- Data folder: /home/ahmadfauzy/geoprojects/spac-unhas/spacunhas/test/data/\n",
      "- Processing folder: /home/ahmadfauzy/geoprojects/spac-unhas/spacunhas/test/processing/\n"
     ]
    }
   ],
   "source": [
    "main_folder= SPACProcessing('/home/ahmadfauzy/geoprojects/spac-unhas/spacunhas/test')"
   ]
  },
  {
   "cell_type": "code",
   "execution_count": 7,
   "id": "4b399802-4289-4093-b13b-5b05e9223fe7",
   "metadata": {},
   "outputs": [
    {
     "name": "stdout",
     "output_type": "stream",
     "text": [
      "Missing data files: M, I, R\n",
      "Please ensure all required files are placed in the data folder: /home/ahmadfauzy/geoprojects/spac-unhas/spacunhas/test/data/\n"
     ]
    },
    {
     "ename": "NameError",
     "evalue": "name 'read' is not defined",
     "output_type": "error",
     "traceback": [
      "\u001b[0;31m---------------------------------------------------------------------------\u001b[0m",
      "\u001b[0;31mNameError\u001b[0m                                 Traceback (most recent call last)",
      "Cell \u001b[0;32mIn[7], line 2\u001b[0m\n\u001b[1;32m      1\u001b[0m datas\u001b[38;5;241m=\u001b[39m ReadData(main_folder, \u001b[38;5;124m'\u001b[39m\u001b[38;5;124mMIR\u001b[39m\u001b[38;5;124m'\u001b[39m, \u001b[38;5;124m'\u001b[39m\u001b[38;5;124mSAC\u001b[39m\u001b[38;5;124m'\u001b[39m)\n\u001b[0;32m----> 2\u001b[0m \u001b[43mdatas\u001b[49m\u001b[38;5;241;43m.\u001b[39;49m\u001b[43mread_data\u001b[49m\u001b[43m(\u001b[49m\u001b[43m)\u001b[49m\n",
      "File \u001b[0;32m~/geoprojects/spac-unhas/spacunhas/src/readdata.py:23\u001b[0m, in \u001b[0;36mReadData.read_data\u001b[0;34m(self)\u001b[0m\n\u001b[1;32m     21\u001b[0m data \u001b[38;5;241m=\u001b[39m []\n\u001b[1;32m     22\u001b[0m \u001b[38;5;28;01mfor\u001b[39;00m i \u001b[38;5;129;01min\u001b[39;00m [\u001b[38;5;124mf\u001b[39m\u001b[38;5;124m'\u001b[39m\u001b[38;5;132;01m{\u001b[39;00m\u001b[38;5;28mself\u001b[39m\u001b[38;5;241m.\u001b[39mpath_data\u001b[38;5;132;01m}\u001b[39;00m\u001b[38;5;132;01m{\u001b[39;00mj\u001b[38;5;132;01m}\u001b[39;00m\u001b[38;5;124m'\u001b[39m \u001b[38;5;28;01mfor\u001b[39;00m j \u001b[38;5;129;01min\u001b[39;00m \u001b[38;5;28mself\u001b[39m\u001b[38;5;241m.\u001b[39mdata_fnames]:\n\u001b[0;32m---> 23\u001b[0m     a \u001b[38;5;241m=\u001b[39m \u001b[43mread\u001b[49m(i, \u001b[38;5;28mformat\u001b[39m\u001b[38;5;241m=\u001b[39m\u001b[38;5;28mself\u001b[39m\u001b[38;5;241m.\u001b[39mdata_format)\n\u001b[1;32m     24\u001b[0m     stats \u001b[38;5;241m=\u001b[39m a[\u001b[38;5;241m0\u001b[39m]\u001b[38;5;241m.\u001b[39mstats   \n\u001b[1;32m     25\u001b[0m     receiver_name\u001b[38;5;241m=\u001b[39mi\u001b[38;5;241m.\u001b[39msplit(\u001b[38;5;124m'\u001b[39m\u001b[38;5;124m/\u001b[39m\u001b[38;5;124m'\u001b[39m)[\u001b[38;5;241m-\u001b[39m\u001b[38;5;241m1\u001b[39m]\n",
      "\u001b[0;31mNameError\u001b[0m: name 'read' is not defined"
     ]
    }
   ],
   "source": [
    "datas= ReadData(main_folder, 'MIR', 'SAC')\n",
    "datas.read_data()"
   ]
  },
  {
   "cell_type": "code",
   "execution_count": 50,
   "id": "86a27414-bdf9-4a7f-a91a-18b16dfc0781",
   "metadata": {},
   "outputs": [
    {
     "data": {
      "text/plain": [
       "<spacunhas.src.readdata.ReadData at 0x7fc5741f8950>"
      ]
     },
     "execution_count": 50,
     "metadata": {},
     "output_type": "execute_result"
    }
   ],
   "source": [
    "datas"
   ]
  },
  {
   "cell_type": "code",
   "execution_count": null,
   "id": "5545dd49-e535-43cf-9602-e0f7333608c2",
   "metadata": {},
   "outputs": [],
   "source": []
  }
 ],
 "metadata": {
  "kernelspec": {
   "display_name": "Python 3 (ipykernel)",
   "language": "python",
   "name": "python3"
  },
  "language_info": {
   "codemirror_mode": {
    "name": "ipython",
    "version": 3
   },
   "file_extension": ".py",
   "mimetype": "text/x-python",
   "name": "python",
   "nbconvert_exporter": "python",
   "pygments_lexer": "ipython3",
   "version": "3.12.2"
  }
 },
 "nbformat": 4,
 "nbformat_minor": 5
}
