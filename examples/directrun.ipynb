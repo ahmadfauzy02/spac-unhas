{
 "cells": [
  {
   "cell_type": "code",
   "execution_count": 14,
   "id": "e4b8ab46-daa0-4a81-8a2d-e08400128f5e",
   "metadata": {},
   "outputs": [],
   "source": [
    "import sys\n",
    "sys.path.append('/home/ahmadfauzy/geoprojects/spac-unhas/')\n",
    "from spacunhas.src.readdata import ReadData"
   ]
  },
  {
   "cell_type": "code",
   "execution_count": 15,
   "id": "f05b07d7-699c-4c1e-a4de-acdde5646cb6",
   "metadata": {},
   "outputs": [
    {
     "data": {
      "text/plain": [
       "spacunhas.src.readdata.ReadData"
      ]
     },
     "execution_count": 15,
     "metadata": {},
     "output_type": "execute_result"
    }
   ],
   "source": [
    "ReadData"
   ]
  },
  {
   "cell_type": "code",
   "execution_count": null,
   "id": "4b399802-4289-4093-b13b-5b05e9223fe7",
   "metadata": {},
   "outputs": [],
   "source": []
  }
 ],
 "metadata": {
  "kernelspec": {
   "display_name": "Python 3 (ipykernel)",
   "language": "python",
   "name": "python3"
  },
  "language_info": {
   "codemirror_mode": {
    "name": "ipython",
    "version": 3
   },
   "file_extension": ".py",
   "mimetype": "text/x-python",
   "name": "python",
   "nbconvert_exporter": "python",
   "pygments_lexer": "ipython3",
   "version": "3.12.2"
  }
 },
 "nbformat": 4,
 "nbformat_minor": 5
}
